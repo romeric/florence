{
 "metadata": {
  "name": ""
 },
 "nbformat": 3,
 "nbformat_minor": 0,
 "worksheets": [
  {
   "cells": [
    {
     "cell_type": "code",
     "collapsed": false,
     "input": [
      "import numpy as np\n",
      "\n",
      "\n",
      "m=100\n",
      "n=50\n",
      "A=np.random.rand(m,n)\n",
      "\n",
      "b=np.arange(1,40)\n",
      "%timeit A[:,1:40]\n",
      "%timeit np.take(A,b,axis=1)\n",
      "\n",
      "# print A[:,1:4]\n",
      "# print np.take(A,b,axis=1)\n",
      "\n",
      "# print np.take(A,)\n",
      "\n",
      "# A=np.random.rand(4,4)\n",
      "# print A\n",
      "# print \n",
      "# print A[:,1:3]\n",
      "# b=np.arange(1,3)\n",
      "# print \n",
      "# print np.take(A,b,axis=1)"
     ],
     "language": "python",
     "metadata": {},
     "outputs": [
      {
       "output_type": "stream",
       "stream": "stdout",
       "text": [
        "1000000 loops, best of 3: 959 ns per loop\n",
        "100000 loops, best of 3: 16.2 \u00b5s per loop"
       ]
      },
      {
       "output_type": "stream",
       "stream": "stdout",
       "text": [
        "\n"
       ]
      }
     ],
     "prompt_number": 37
    },
    {
     "cell_type": "code",
     "collapsed": false,
     "input": [
      "# import imp\n",
      "# we = imp.load_source('Where','/home/roman/Dropbox/Python/Core/Supplementary/Where/whereEQ.so')\n",
      "from whereEQ import whereEQ\n",
      "\n",
      "n=500\n",
      "A=np.arange(n*10).reshape(n,10)\n",
      "A[300,2] = 7\n",
      "A[400,9] = 7\n",
      "\n",
      "print np.where(A==7)\n",
      "print whereEQ(A,7)\n",
      "# print np.all(A==7)\n",
      "# print np.any(A==7)\n",
      "# print np.argwhere(A).shape\n",
      "print np.argwhere(A==7)\n",
      "# print np.any(A-7==0)\n",
      "# print np.all(A-7==0)\n",
      "\n",
      "%timeit np.where(A==7)\n",
      "%timeit whereEQ(A,7)\n",
      "%timeit np.argwhere(A==7)"
     ],
     "language": "python",
     "metadata": {},
     "outputs": [
      {
       "output_type": "stream",
       "stream": "stdout",
       "text": [
        "(array([  0, 300, 400]), array([7, 2, 9]))\n",
        "((0, 300, 400), (7, 2, 9))\n",
        "[[  0   7]\n",
        " [300   2]\n",
        " [400   9]]\n",
        "10000 loops, best of 3: 36.5 \u00b5s per loop"
       ]
      },
      {
       "output_type": "stream",
       "stream": "stdout",
       "text": [
        "\n",
        "100000 loops, best of 3: 7.18 \u00b5s per loop"
       ]
      },
      {
       "output_type": "stream",
       "stream": "stdout",
       "text": [
        "\n",
        "10000 loops, best of 3: 48.9 \u00b5s per loop"
       ]
      },
      {
       "output_type": "stream",
       "stream": "stdout",
       "text": [
        "\n"
       ]
      }
     ],
     "prompt_number": 71
    },
    {
     "cell_type": "code",
     "collapsed": false,
     "input": [
      "import numpy as np\n",
      "\n",
      "A=np.random.rand(50,50)\n",
      "\n",
      "# print A.flags\n",
      "# print \n",
      "# print A.T.flags\n",
      "\n",
      "def f1(A):\n",
      "    for i in range(0,1000):\n",
      "        np.dot(A,A.T)\n",
      "def f2(A):\n",
      "    B = A.T.copy()\n",
      "    for i in range(0,1000):\n",
      "        np.dot(A,B)\n",
      "\n",
      "# %timeit np.dot(A,A.T)\n",
      "# %timeit np.dot(A,A.T.copy())\n",
      "\n",
      "%timeit f1(A)\n",
      "%timeit f2(A)"
     ],
     "language": "python",
     "metadata": {},
     "outputs": [
      {
       "output_type": "stream",
       "stream": "stdout",
       "text": [
        "10 loops, best of 3: 121 ms per loop\n",
        "10 loops, best of 3: 143 ms per loop"
       ]
      },
      {
       "output_type": "stream",
       "stream": "stdout",
       "text": [
        "\n"
       ]
      }
     ],
     "prompt_number": 6
    },
    {
     "cell_type": "code",
     "collapsed": false,
     "input": [
      "import numpy as np\n",
      "\n",
      "A=np.random.rand(3,3)\n",
      "\n",
      "%timeit (2*3)**2\n",
      "%timeit (2*3)*(2*3)"
     ],
     "language": "python",
     "metadata": {},
     "outputs": [
      {
       "output_type": "stream",
       "stream": "stdout",
       "text": [
        "100000000 loops, best of 3: 16 ns per loop\n",
        "10000000 loops, best of 3: 34.4 ns per loop"
       ]
      },
      {
       "output_type": "stream",
       "stream": "stdout",
       "text": [
        "\n"
       ]
      }
     ],
     "prompt_number": 2
    },
    {
     "cell_type": "code",
     "collapsed": false,
     "input": [
      "from numba import jit\n",
      "\n",
      "\n",
      "@jit\n",
      "def nutr(A):\n",
      "    tr=0\n",
      "    for i in range(A.shape[0]):\n",
      "        tr += A[i,i]\n",
      "        \n",
      "    return tr"
     ],
     "language": "python",
     "metadata": {},
     "outputs": [],
     "prompt_number": 5
    },
    {
     "cell_type": "code",
     "collapsed": false,
     "input": [
      "from trace import trace as mytrace\n",
      "n=500\n",
      "A=np.random.rand(n,n)\n",
      "\n",
      "%timeit np.trace(A)\n",
      "%timeit nutr(A)\n",
      "%timeit mytrace(A)"
     ],
     "language": "python",
     "metadata": {},
     "outputs": [
      {
       "output_type": "stream",
       "stream": "stdout",
       "text": [
        "100000 loops, best of 3: 11.5 \u00b5s per loop\n",
        "100000 loops, best of 3: 2.28 \u00b5s per loop"
       ]
      },
      {
       "output_type": "stream",
       "stream": "stdout",
       "text": [
        "\n",
        "100000 loops, best of 3: 2.27 \u00b5s per loop"
       ]
      },
      {
       "output_type": "stream",
       "stream": "stdout",
       "text": [
        "\n"
       ]
      }
     ],
     "prompt_number": 14
    },
    {
     "cell_type": "code",
     "collapsed": false,
     "input": [
      "print np.random.rand(10,1).nbytes\n",
      "print np.random.rand(100,1).nbytes\n",
      "print np.random.rand(1000,1).nbytes"
     ],
     "language": "python",
     "metadata": {},
     "outputs": [
      {
       "output_type": "stream",
       "stream": "stdout",
       "text": [
        "80\n",
        "800\n",
        "8000\n"
       ]
      }
     ],
     "prompt_number": 15
    },
    {
     "cell_type": "code",
     "collapsed": false,
     "input": [
      "A=np.arange(0,9).reshape(3,3)\n",
      "\n",
      "print A\n",
      "print \n",
      "print A.reshape(9,1)\n",
      "\n",
      "b = np.array([0,1,2,0,0,1])\n",
      "c = np.array([0,1,2,1,2,2])\n",
      "\n",
      "print \n",
      "# print A[b,:][:,c]\n",
      "# print A[[0,0],[1,1],[2,2]]"
     ],
     "language": "python",
     "metadata": {},
     "outputs": [
      {
       "output_type": "stream",
       "stream": "stdout",
       "text": [
        "[[0 1 2]\n",
        " [3 4 5]\n",
        " [6 7 8]]\n",
        "\n",
        "[[0]\n",
        " [1]\n",
        " [2]\n",
        " [3]\n",
        " [4]\n",
        " [5]\n",
        " [6]\n",
        " [7]\n",
        " [8]]\n",
        "\n"
       ]
      }
     ],
     "prompt_number": 24
    },
    {
     "cell_type": "code",
     "collapsed": false,
     "input": [
      "def f1(A):\n",
      "    A_Voigt = np.array([A[0,0],A[1,1],A[2,2],A[0,1],A[0,2],A[1,2]]).reshape(6,1)\n",
      "    return A_Voigt\n",
      "\n",
      "def f2(A):\n",
      "    A_v = np.zeros((6,1),dtype=np.float64)\n",
      "    A_v[0] = A[0,0]\n",
      "    A_v[1] = A[1,1]\n",
      "    A_v[2] = A[2,2]\n",
      "    A_v[3] = A[0,1]\n",
      "    A_v[4] = A[0,2]\n",
      "    A_v[5] = A[1,2]\n",
      "    \n",
      "    return A_v\n",
      "\n",
      "# def f3(A)\n",
      "\n",
      "A=np.arange(0,9).reshape(3,3).astype(np.float64)\n",
      "# print A\n",
      "# print f1(A)\n",
      "\n",
      "%timeit f1(A)\n",
      "%timeit f2(A)\n",
      "\n",
      "from numba import autojit\n",
      "f3 = autojit(f2)\n",
      "%timeit f3(A)\n",
      "\n",
      "# print A[np.nonzero(np.triu(A+1))]\n",
      "# %timeit A[np.nonzero(np.triu(A+1))]\n",
      "# print A[np.nonzero(np.triu(A+1))]"
     ],
     "language": "python",
     "metadata": {},
     "outputs": [
      {
       "output_type": "stream",
       "stream": "stdout",
       "text": [
        "100000 loops, best of 3: 3.52 \u00b5s per loop\n",
        "100000 loops, best of 3: 4.6 \u00b5s per loop"
       ]
      },
      {
       "output_type": "stream",
       "stream": "stdout",
       "text": [
        "\n",
        "100000 loops, best of 3: 8 \u00b5s per loop"
       ]
      },
      {
       "output_type": "stream",
       "stream": "stdout",
       "text": [
        "\n"
       ]
      }
     ],
     "prompt_number": 46
    },
    {
     "cell_type": "code",
     "collapsed": false,
     "input": [
      "%load_ext cythonmagic"
     ],
     "language": "python",
     "metadata": {},
     "outputs": [
      {
       "output_type": "stream",
       "stream": "stdout",
       "text": [
        "The cythonmagic extension is already loaded. To reload it, use:\n",
        "  %reload_ext cythonmagic\n"
       ]
      }
     ],
     "prompt_number": 63
    },
    {
     "cell_type": "code",
     "collapsed": false,
     "input": [
      "%%cython\n",
      "import cython\n",
      "cimport numpy as np\n",
      "\n",
      "@cython.boundscheck(False)\n",
      "def f3(np.ndarray[double, ndim=2] A):\n",
      "    cdef double sum = 0\n",
      "    cdef int i,j\n",
      "    cdef int a1 = A.shape[0]\n",
      "    cdef int a2 = A.shape[1]\n",
      "    for i in range(0,a1):\n",
      "        for j in range(0,a2):\n",
      "            sum += A[i,j]\n",
      "            \n",
      "    return sum"
     ],
     "language": "python",
     "metadata": {},
     "outputs": [],
     "prompt_number": 66
    },
    {
     "cell_type": "code",
     "collapsed": false,
     "input": [
      "def f1(A):\n",
      "    sum=0\n",
      "    for i in range(0,A.shape[0]):\n",
      "        for j in range(0,A.shape[1]):\n",
      "            sum += A[i,j]\n",
      "            \n",
      "    return sum\n",
      "\n",
      "from numba import jit\n",
      "\n",
      "@jit\n",
      "def f2(A):\n",
      "    sum=0\n",
      "    for i in range(0,A.shape[0]):\n",
      "        for j in range(0,A.shape[1]):\n",
      "            sum += A[i,j]\n",
      "            \n",
      "    return sum\n",
      "\n",
      "\n",
      "\n",
      "\n",
      "\n",
      "A=np.random.rand(50,50)\n",
      "\n",
      "# print f1(A)\n",
      "# print f2(A)\n",
      "# print f3(A)\n",
      "# %timeit np.sum(A)\n",
      "\n",
      "%timeit f1(A)\n",
      "%timeit f2(A)\n",
      "%timeit np.sum(A)\n",
      "%timeit f3(A)\n",
      "\n"
     ],
     "language": "python",
     "metadata": {},
     "outputs": [
      {
       "output_type": "stream",
       "stream": "stdout",
       "text": [
        "1000 loops, best of 3: 1.15 ms per loop\n",
        "100000 loops, best of 3: 3.06 \u00b5s per loop"
       ]
      },
      {
       "output_type": "stream",
       "stream": "stdout",
       "text": [
        "\n",
        "100000 loops, best of 3: 8.52 \u00b5s per loop"
       ]
      },
      {
       "output_type": "stream",
       "stream": "stdout",
       "text": [
        "\n",
        "100000 loops, best of 3: 3 \u00b5s per loop"
       ]
      },
      {
       "output_type": "stream",
       "stream": "stdout",
       "text": [
        "\n"
       ]
      }
     ],
     "prompt_number": 70
    }
   ],
   "metadata": {}
  }
 ]
}