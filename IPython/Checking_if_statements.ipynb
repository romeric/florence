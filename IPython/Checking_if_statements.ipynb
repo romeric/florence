{
 "metadata": {
  "name": ""
 },
 "nbformat": 3,
 "nbformat_minor": 0,
 "worksheets": [
  {
   "cells": [
    {
     "cell_type": "code",
     "collapsed": false,
     "input": [
      "import numpy as np\n",
      "from numba import jit\n",
      "\n",
      "\n",
      "def f1(n):\n",
      "    x='linear'\n",
      "    for i in range(n):\n",
      "        if x=='Nonlinear':\n",
      "            pass\n",
      "@jit\n",
      "def f2(n):\n",
      "    x=0\n",
      "    for i in range(n):\n",
      "        if x==2:\n",
      "            pass\n",
      "            \n",
      "n=10000000\n",
      "%timeit f1(n)\n",
      "%timeit f2(n)"
     ],
     "language": "python",
     "metadata": {},
     "outputs": [
      {
       "output_type": "stream",
       "stream": "stdout",
       "text": [
        "1 loops, best of 3: 441 ms per loop\n",
        "1000000 loops, best of 3: 238 ns per loop"
       ]
      },
      {
       "output_type": "stream",
       "stream": "stdout",
       "text": [
        "\n"
       ]
      }
     ],
     "prompt_number": 13
    }
   ],
   "metadata": {}
  }
 ]
}