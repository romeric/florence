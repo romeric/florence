{
 "metadata": {
  "name": ""
 },
 "nbformat": 3,
 "nbformat_minor": 0,
 "worksheets": [
  {
   "cells": [
    {
     "cell_type": "code",
     "collapsed": false,
     "input": [
      "%load_ext cythonmagic"
     ],
     "language": "python",
     "metadata": {},
     "outputs": [],
     "prompt_number": 1
    },
    {
     "cell_type": "code",
     "collapsed": false,
     "input": [
      "%%cython \n",
      "cimport cython\n",
      "from cython cimport parallel\n",
      "# from libcpp.vector cimport vector\n",
      "# from cython.operator cimport dereference as deref, preincrement as inc\n",
      "\n",
      "import numpy as np\n",
      "cimport numpy as np\n",
      "\n",
      "DTYPE = np.float64\n",
      "ctypedef np.float64_t DTYPE_t\n",
      "\n",
      "\n",
      "@cython.boundscheck(False)\n",
      "@cython.profile(False)\n",
      "@cython.wraparound(False)\n",
      "cdef whereLT1(np.ndarray[DTYPE_t, ndim=2] Arr, DTYPE_t i):\n",
      "#     cdef np.ndarray x = cnp.zeros(1,dtype=np.int64_t) \n",
      "#     cdef np.ndarray y = cnp.zeros(1,dtype=np.int64_t)\n",
      "#     cdef int x,y\n",
      "    cdef int x[3000]\n",
      "    cdef int y[3000]\n",
      "    cdef int j,k\n",
      "    cdef int rows = Arr.shape[0]\n",
      "    cdef int cols = Arr.shape[1]\n",
      "    \n",
      "#     with nogil, cython.boundscheck(False), cython.wraparound(False):\n",
      "    cdef int counter\n",
      "    for j in parallel.prange(0,rows,nogil=True):\n",
      "        for k in range(0,cols):\n",
      "            if Arr[j,k] < i:\n",
      "                x[counter] = j\n",
      "                y[counter] = k\n",
      "                counter  = counter + 1\n",
      "#                 x = np.append(x,j)\n",
      "#                 y = np.append(y,k)\n",
      "    return x,y\n",
      "\n",
      "\n",
      "def whereLT2(Arr,i):\n",
      "    return whereLT1(Arr,i)\n",
      "    # return np.asarray(x),np.asarray(y)"
     ],
     "language": "python",
     "metadata": {},
     "outputs": [],
     "prompt_number": 2
    },
    {
     "cell_type": "code",
     "collapsed": false,
     "input": [
      "A=np.arange(0,60).astype(np.float64).reshape(60,1)\n",
      "from whereLT import whereLT\n",
      "\n",
      "%timeit np.where(A<50)\n",
      "%timeit whereLT(A,50)\n",
      "# print whereLT2(A,50) # there is some segmentation fault in this. kills the ipython server"
     ],
     "language": "python",
     "metadata": {},
     "outputs": [
      {
       "output_type": "stream",
       "stream": "stdout",
       "text": [
        "100000 loops, best of 3: 5.43 \u00b5s per loop\n",
        "100000 loops, best of 3: 13.5 \u00b5s per loop"
       ]
      },
      {
       "output_type": "stream",
       "stream": "stdout",
       "text": [
        "\n"
       ]
      }
     ],
     "prompt_number": 6
    },
    {
     "cell_type": "code",
     "collapsed": false,
     "input": [
      "%%cython \n",
      "cimport cython\n",
      "from cython cimport parallel\n",
      "# from libcpp.vector cimport vector\n",
      "# from cython.operator cimport dereference as deref, preincrement as inc\n",
      "\n",
      "import numpy as np\n",
      "cimport numpy as np\n",
      "\n",
      "DTYPE = np.float64\n",
      "ctypedef np.float64_t DTYPE_t\n",
      "\n",
      "\n",
      "@cython.boundscheck(False)\n",
      "@cython.profile(False)\n",
      "@cython.wraparound(False)\n",
      "cdef take_c(np.ndarray[DTYPE_t, ndim=1] Arr, int a, int b, np.ndarray[DTYPE_t, ndim=1] v):\n",
      "\n",
      "    cdef int rows = Arr.shape[0]\n",
      "    cdef int j \n",
      "    with nogil, cython.boundscheck(False), cython.wraparound(False):\n",
      "        for j in parallel.prange(0,rows,num_threads=4):\n",
      "    #     for j in range(a,b):\n",
      "            Arr[j] = v[j]\n",
      "\n",
      "    return Arr\n",
      "\n",
      "\n",
      "def take_cp(Arr,a,b,v):\n",
      "    return take_c(Arr,a,b,v)"
     ],
     "language": "python",
     "metadata": {},
     "outputs": [],
     "prompt_number": 18
    },
    {
     "cell_type": "code",
     "collapsed": false,
     "input": [
      "m=100\n",
      "n=20\n",
      "A=np.random.rand(m,1).reshape(m)\n",
      "b=np.random.rand(n,1).reshape(n)\n",
      "\n",
      "%timeit A[:n]=b\n",
      "%timeit take_cp(A,0,n,b)"
     ],
     "language": "python",
     "metadata": {},
     "outputs": [
      {
       "output_type": "stream",
       "stream": "stdout",
       "text": [
        "1000000 loops, best of 3: 331 ns per loop\n",
        "1000000 loops, best of 3: 736 ns per loop"
       ]
      },
      {
       "output_type": "stream",
       "stream": "stdout",
       "text": [
        "\n"
       ]
      }
     ],
     "prompt_number": 19
    }
   ],
   "metadata": {}
  }
 ]
}