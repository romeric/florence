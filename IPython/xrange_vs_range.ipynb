{
 "metadata": {
  "name": ""
 },
 "nbformat": 3,
 "nbformat_minor": 0,
 "worksheets": [
  {
   "cells": [
    {
     "cell_type": "code",
     "collapsed": false,
     "input": [
      "import numpy as np\n",
      "from numba import jit\n",
      "\n",
      "# @jit\n",
      "def f1(A):\n",
      "    sum=0.\n",
      "    for i in xrange(A.shape[0]):\n",
      "        for j in xrange(A.shape[0]):\n",
      "            sum += A[i,j]  \n",
      "    return sum\n",
      "\n",
      "#@jit\n",
      "def f2(A):\n",
      "    sum=0.\n",
      "    for i in range(A.shape[0]):\n",
      "        for j in range(A.shape[0]):\n",
      "            sum += A[i,j]  \n",
      "    return sum\n",
      "\n",
      "n=10\n",
      "A=np.random.rand(n,n)\n",
      "%timeit f1(A)\n",
      "%timeit f2(A)"
     ],
     "language": "python",
     "metadata": {},
     "outputs": [
      {
       "output_type": "stream",
       "stream": "stdout",
       "text": [
        "10000 loops, best of 3: 38.5 \u00b5s per loop\n",
        "10000 loops, best of 3: 41.5 \u00b5s per loop"
       ]
      },
      {
       "output_type": "stream",
       "stream": "stdout",
       "text": [
        "\n"
       ]
      }
     ],
     "prompt_number": 30
    }
   ],
   "metadata": {}
  }
 ]
}