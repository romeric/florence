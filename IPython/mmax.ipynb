{
 "metadata": {
  "name": ""
 },
 "nbformat": 3,
 "nbformat_minor": 0,
 "worksheets": [
  {
   "cells": [
    {
     "cell_type": "code",
     "collapsed": false,
     "input": [
      "%load_ext cythonmagic"
     ],
     "language": "python",
     "metadata": {},
     "outputs": [],
     "prompt_number": 1
    },
    {
     "cell_type": "code",
     "collapsed": false,
     "input": [
      "%%cython\n",
      "import numpy as np \n",
      "cimport numpy as np \n",
      "import cython\n",
      "\n",
      "DTYPE=np.int64\n",
      "ctypedef np.int64_t DTYPE_t\n",
      "\n",
      "@cython.boundscheck(False)\n",
      "def mmax(np.ndarray[DTYPE_t, ndim=2]A):\n",
      "    cdef DTYPE_t i,j\n",
      "    cdef DTYPE_t a1 = A.shape[0]\n",
      "    cdef DTYPE_t a2 = A.shape[1]\n",
      "    cdef DTYPE_t Amax = A[0,0]\n",
      "    for i in range(a1):\n",
      "        for j in range(a2):\n",
      "            if A[i,j] > Amax:\n",
      "                Amax = A[i,j]\n",
      "                \n",
      "    return Amax"
     ],
     "language": "python",
     "metadata": {},
     "outputs": [],
     "prompt_number": 2
    },
    {
     "cell_type": "code",
     "collapsed": false,
     "input": [
      "import numpy as np \n",
      "\n",
      "# n=10000\n",
      "# A=np.arange(0,n).reshape(int(n/2.),2)\n",
      "n=1000000\n",
      "A=np.arange(0,n*20).reshape(n,20)\n",
      "# print A\n",
      "# print np.max(A)\n",
      "# print mmax(A)\n",
      "\n",
      "%timeit np.max(A)\n",
      "%timeit mmax(A)\n"
     ],
     "language": "python",
     "metadata": {},
     "outputs": [
      {
       "output_type": "stream",
       "stream": "stdout",
       "text": [
        "10 loops, best of 3: 19 ms per loop\n",
        "10 loops, best of 3: 21.4 ms per loop"
       ]
      },
      {
       "output_type": "stream",
       "stream": "stdout",
       "text": [
        "\n"
       ]
      }
     ],
     "prompt_number": 3
    },
    {
     "cell_type": "code",
     "collapsed": false,
     "input": [
      "%%cython\n",
      "import numpy as np \n",
      "cimport numpy as np \n",
      "import cython\n",
      "\n",
      "DTYPE=np.float64\n",
      "ctypedef np.float64_t DTYPE_t\n",
      "\n",
      "@cython.boundscheck(False)\n",
      "def summ(np.ndarray[DTYPE_t, ndim=2]A):\n",
      "    cdef int i,j\n",
      "    cdef int a1 = A.shape[0]\n",
      "    cdef int a2 = A.shape[1]\n",
      "    cdef DTYPE_t Amax = 0\n",
      "    for i in range(a1):\n",
      "        for j in range(a2):\n",
      "            Amax += A[i,j]\n",
      "                \n",
      "    return Amax"
     ],
     "language": "python",
     "metadata": {},
     "outputs": [],
     "prompt_number": 4
    },
    {
     "cell_type": "code",
     "collapsed": false,
     "input": [
      "n=1000\n",
      "A=np.random.rand(n,n)\n",
      "I=np.ones((n,n),dtype=np.float64)\n",
      "%timeit summ(A)\n",
      "%timeit np.sum(A)\n",
      "# %timeit np.einsum('ij,ij',A,I)\n",
      "# print summ(A)\n",
      "# print np.einsum('ij,ij',A,I)"
     ],
     "language": "python",
     "metadata": {},
     "outputs": [
      {
       "output_type": "stream",
       "stream": "stdout",
       "text": [
        "1000 loops, best of 3: 949 \u00b5s per loop\n",
        "1000 loops, best of 3: 981 \u00b5s per loop"
       ]
      },
      {
       "output_type": "stream",
       "stream": "stdout",
       "text": [
        "\n"
       ]
      }
     ],
     "prompt_number": 26
    }
   ],
   "metadata": {}
  }
 ]
}