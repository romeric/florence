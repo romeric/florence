{
 "metadata": {
  "name": ""
 },
 "nbformat": 3,
 "nbformat_minor": 0,
 "worksheets": [
  {
   "cells": [
    {
     "cell_type": "code",
     "collapsed": false,
     "input": [
      "import numpy as np\n",
      "def purepy(A):\n",
      "    trA = 0\n",
      "    for i in range(0,A.shape[0]):\n",
      "       trA += A[i,i] \n",
      "    return trA"
     ],
     "language": "python",
     "metadata": {},
     "outputs": [],
     "prompt_number": 22
    },
    {
     "cell_type": "code",
     "collapsed": false,
     "input": [
      "%load_ext cythonmagic"
     ],
     "language": "python",
     "metadata": {},
     "outputs": [],
     "prompt_number": 14
    },
    {
     "cell_type": "code",
     "collapsed": false,
     "input": [
      "%%cython\n",
      "import cython\n",
      "import numpy as np\n",
      "cimport numpy as np\n",
      "\n",
      "DTYPE = np.float64\n",
      "ctypedef np.float64_t DTYPE_t\n",
      "\n",
      "@cython.boundscheck(False)\n",
      "@cython.wraparound(False)\n",
      "def cpy(np.ndarray[DTYPE_t, ndim=2] A):\n",
      "    cdef int i\n",
      "    cdef DTYPE_t trA = 0\n",
      "    cdef int n = A.shape[0]\n",
      "    \n",
      "    for i in range(0,n):\n",
      "       trA += A[i,i] \n",
      "    return trA"
     ],
     "language": "python",
     "metadata": {},
     "outputs": [],
     "prompt_number": 50
    },
    {
     "cell_type": "code",
     "collapsed": false,
     "input": [
      "n = 3\n",
      "A=np.arange(0,n*n).reshape(n,n).astype(np.float64)\n",
      "def f1(A,n0):\n",
      "    for i in range(0,n0):\n",
      "        cpy(A)\n",
      "        \n",
      "def f2(A,n0):\n",
      "    for i in range(0,n0):\n",
      "        np.trace(A)\n",
      "        \n",
      "# A=np.arange(0,n).reshape(25,5).astype(np.float64)\n",
      "# %timeit purepy(A)\n",
      "# %timeit cpy(A)\n",
      "# %timeit np.trace(A)\n",
      "# n=12\n",
      "# A=np.random.rand(n,n)\n",
      "# print np.trace(A), cpy(A)\n",
      "\n",
      "n0=1000000\n",
      "%timeit f2(A,n0)\n",
      "%timeit f1(A,n0)"
     ],
     "language": "python",
     "metadata": {},
     "outputs": [
      {
       "output_type": "stream",
       "stream": "stdout",
       "text": [
        "1 loops, best of 3: 5.48 s per loop\n",
        "1 loops, best of 3: 328 ms per loop"
       ]
      },
      {
       "output_type": "stream",
       "stream": "stdout",
       "text": [
        "\n"
       ]
      }
     ],
     "prompt_number": 68
    },
    {
     "cell_type": "code",
     "collapsed": false,
     "input": [
      "import scipy as sp\n",
      "from scipy.linalg import get_blas_funcs\n",
      "\n",
      "n = 3\n",
      "A = np.random.rand(n,n)\n",
      "B = np.random.rand(n,n)\n",
      "\n",
      "A=A\n",
      "B=B.T\n",
      "# print A.flags\n",
      "# print A.T.flags\n",
      "\n",
      "# print np.dot(A,B)\n",
      "# print \n",
      "# print sp.linalg.blas.dgemm(1,A,B)\n",
      "\n",
      "%timeit np.dot(A,B)\n",
      "%timeit sp.linalg.blas.dgemm(1,A,B)\n",
      "# %timeit \n",
      "# A=np.arange(0,n*n).reshape(n,n).astype(np.float64)\n",
      "\n",
      "# SCIPY LOW LEVEL BLAS FUNCTIONS ARE NOT OPTIMISED AND DON'T DO CHECK UPS\n",
      "# THEY ARE FAST FOR C AND FORTRAN STYLE MATRICES"
     ],
     "language": "python",
     "metadata": {},
     "outputs": [
      {
       "output_type": "stream",
       "stream": "stdout",
       "text": [
        "1000000 loops, best of 3: 748 ns per loop\n",
        "1000000 loops, best of 3: 1.15 \u00b5s per loop"
       ]
      },
      {
       "output_type": "stream",
       "stream": "stdout",
       "text": [
        "\n"
       ]
      }
     ],
     "prompt_number": 94
    },
    {
     "cell_type": "code",
     "collapsed": false,
     "input": [
      "# A=np.random.rand(2,2)\n",
      "# B = np.random.rand(2,3)\n",
      "A=np.random.rand(3,3)\n",
      "B = np.random.rand(3,4)\n",
      "\n",
      "# print np.dot(np.linalg.inv(A),B)\n",
      "# print np.linalg.solve(A,B)\n",
      "%timeit np.dot(np.linalg.inv(A),B)\n",
      "%timeit np.linalg.solve(A,B)"
     ],
     "language": "python",
     "metadata": {},
     "outputs": [
      {
       "output_type": "stream",
       "stream": "stdout",
       "text": [
        "100000 loops, best of 3: 14.5 \u00b5s per loop\n",
        "100000 loops, best of 3: 15 \u00b5s per loop"
       ]
      },
      {
       "output_type": "stream",
       "stream": "stdout",
       "text": [
        "\n"
       ]
      }
     ],
     "prompt_number": 101
    },
    {
     "cell_type": "code",
     "collapsed": false,
     "input": [
      "def f3(A):\n",
      "    return np.abs(np.linalg.det(A))+np.abs(np.linalg.det(A))\n",
      "def f4(A):\n",
      "    return 2*np.abs(np.linalg.det(A))\n",
      "\n",
      "\n",
      "A=np.random.rand(3,3)\n",
      "%timeit f3(A)\n",
      "%timeit f4(A)"
     ],
     "language": "python",
     "metadata": {},
     "outputs": [
      {
       "output_type": "stream",
       "stream": "stdout",
       "text": [
        "10000 loops, best of 3: 25.2 \u00b5s per loop\n",
        "100000 loops, best of 3: 14.3 \u00b5s per loop"
       ]
      },
      {
       "output_type": "stream",
       "stream": "stdout",
       "text": [
        "\n"
       ]
      }
     ],
     "prompt_number": 104
    }
   ],
   "metadata": {}
  }
 ]
}