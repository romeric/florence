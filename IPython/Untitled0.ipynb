{
 "metadata": {
  "name": ""
 },
 "nbformat": 3,
 "nbformat_minor": 0,
 "worksheets": [
  {
   "cells": [
    {
     "cell_type": "code",
     "collapsed": false,
     "input": [
      "import distmesh as dm\n",
      "fd = lambda p: dm.ddiff(dm.dcircle(p,0,0,2.0),dm.dcircle(p,0,0,0.5))\n",
      "fh = lambda p: 0.05+0.3*dm.dcircle(p,0,0,0.5)\n",
      "p, t = dm.distmesh2d(fd, fh, 0.05, (-1,-1,1,1),[(-1,-1),(-1,1),(1,-1),(1,1)])\n",
      "\n",
      "# print p \n",
      "# print t\n",
      "\n",
      "import numpy as np \n",
      "import matplotlib.pyplot as plt\n",
      "plt.triplot(p[:,0],p[:,1], t[:,:3])\n",
      "plt.show()\n",
      "# plt.tricontourf(mesh.points[:,0], mesh.points[:,1], mesh.elements[:,:3], np.ones(mesh.points.shape[0]), 100,alpha=0.3)\n"
     ],
     "language": "python",
     "metadata": {},
     "outputs": [],
     "prompt_number": 7
    },
    {
     "cell_type": "code",
     "collapsed": false,
     "input": [
      "fd = lambda p: dm.ddiff(np.sqrt((p**2).sum(1))-2.0,np.sqrt((p**2).sum(1))-0.5)\n",
      "p, t = dm.distmesh2d(fd, dm.huniform, 0.1, (-2,-2,2,2))\n",
      "plt.triplot(p[:,0],p[:,1], t[:,:3])\n",
      "plt.show()"
     ],
     "language": "python",
     "metadata": {},
     "outputs": [],
     "prompt_number": 11
    }
   ],
   "metadata": {}
  }
 ]
}