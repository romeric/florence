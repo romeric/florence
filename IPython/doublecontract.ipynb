{
 "metadata": {
  "name": ""
 },
 "nbformat": 3,
 "nbformat_minor": 0,
 "worksheets": [
  {
   "cells": [
    {
     "cell_type": "code",
     "collapsed": false,
     "input": [
      "import numpy as np\n",
      "a=np.arange(0,1000)\n",
      "b=np.arange(200,300)\n",
      "# b=np.array([2,4,7])\n",
      "\n",
      "# print a\n",
      "# print b\n",
      "# print np.setdiff1d(a,b)\n",
      "# print np.delete(a,b)\n",
      "\n",
      "%timeit np.setdiff1d(a,b)\n",
      "%timeit np.delete(a,b)"
     ],
     "language": "python",
     "metadata": {},
     "outputs": [
      {
       "output_type": "stream",
       "stream": "stdout",
       "text": [
        "10000 loops, best of 3: 104 \u00b5s per loop\n",
        "10000 loops, best of 3: 46.2 \u00b5s per loop"
       ]
      },
      {
       "output_type": "stream",
       "stream": "stdout",
       "text": [
        "\n"
       ]
      }
     ],
     "prompt_number": 1
    },
    {
     "cell_type": "code",
     "collapsed": false,
     "input": [
      "import os\n",
      "print os.getcwd()"
     ],
     "language": "python",
     "metadata": {},
     "outputs": [
      {
       "output_type": "stream",
       "stream": "stdout",
       "text": [
        "/home/roman/Dropbox/Python/IPython\n"
       ]
      }
     ],
     "prompt_number": 2
    },
    {
     "cell_type": "code",
     "collapsed": false,
     "input": [
      "%load_ext cythonmagic"
     ],
     "language": "python",
     "metadata": {},
     "outputs": [],
     "prompt_number": 4
    },
    {
     "cell_type": "code",
     "collapsed": false,
     "input": [
      "%%cython\n",
      "import cython\n",
      "import numpy as np\n",
      "cimport numpy as np\n",
      "\n",
      "DTYPE = np.float64\n",
      "ctypedef np.float64_t DTYPE_t\n",
      "\n",
      "@cython.boundscheck(False)\n",
      "@cython.wraparound(False)\n",
      "def doublecontract(np.ndarray[DTYPE_t, ndim=2] A, np.ndarray[DTYPE_t, ndim=2] B):\n",
      "    cdef int i,j\n",
      "    cdef int a1 = A.shape[0]\n",
      "    cdef int b1 = B.shape[0]\n",
      "    cdef int a2 = A.shape[1]\n",
      "    cdef int b2 = B.shape[1]\n",
      "    if a1!=b1 or a2!=b2:\n",
      "        raise ValueError('incompatible dimensions for double contraction')\n",
      "    \n",
      "    cdef DTYPE_t dc = 0\n",
      "    for i in range(0,a1):\n",
      "        for j in range(0,b2):\n",
      "            dc += A[i,j]*B[i,j]\n",
      "    return dc"
     ],
     "language": "python",
     "metadata": {},
     "outputs": [],
     "prompt_number": 30
    },
    {
     "cell_type": "code",
     "collapsed": false,
     "input": [
      "n=3\n",
      "A=np.random.rand(n,n)\n",
      "B=np.random.rand(n,n)\n",
      "\n",
      "print np.einsum('ij,ij',A,B)\n",
      "# print np.tensordot(A,B, axes=([0,1],[0,1]))\n",
      "print doublecontract(A,B)\n",
      "\n",
      "def f1(A,B,n):\n",
      "    for i in range(0,n):\n",
      "        np.einsum('ij,ij',A,B)\n",
      "def f2(A,B,n):\n",
      "    for i in range(0,n):\n",
      "        np.tensordot(A,B, axes=([0,1],[0,1]))\n",
      "def f3(A,B,n):\n",
      "    for i in range(0,n):\n",
      "        doublecontract(A,B)\n",
      "        \n",
      "\n",
      "# %timeit np.einsum('ij,ij',A,B)\n",
      "# %timeit np.tensordot(A,B, axes=([0,1],[0,1]))\n",
      "# %timeit doublecontract(A,B)\n",
      "\n",
      "nn=20000\n",
      "\n",
      "# %timeit f1(A,B,nn)\n",
      "# %timeit f2(A,B,nn)\n",
      "# %timeit f3(A,B,nn)"
     ],
     "language": "python",
     "metadata": {},
     "outputs": [
      {
       "output_type": "stream",
       "stream": "stdout",
       "text": [
        "2.74096897622\n",
        "2.74096897622\n"
       ]
      }
     ],
     "prompt_number": 46
    }
   ],
   "metadata": {}
  }
 ]
}