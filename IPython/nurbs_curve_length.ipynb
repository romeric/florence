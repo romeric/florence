{
 "metadata": {
  "name": ""
 },
 "nbformat": 3,
 "nbformat_minor": 0,
 "worksheets": [
  {
   "cells": [
    {
     "cell_type": "code",
     "collapsed": false,
     "input": [
      "from igakit.igalib import bsp\n",
      "import numpy as np\n",
      "def CurvePoint(u,nurbs,homogeneous = True):\n",
      "\n",
      "\tif nurbs['U'][0].shape[0] > 0:\n",
      "\t\t# pt = bsp.Evaluate1(nurbs['degree'],nurbs['U'],nurbs['Pw'],u)\n",
      "\t\tpt = bsp.Evaluate1(nurbs['degree'],nurbs['U'],nurbs['Pw'],u)\n",
      "\t\twt = pt[0,-1]\n",
      "\t\tif homogeneous:\n",
      "\t\t\tpt = pt[0,:3]/pt[0,-1]\n",
      "\t\telse:\n",
      "\t\t\tpt = pt[0,:3]\n",
      "\telse:\n",
      "\t\tpt = np.zeros(3)\n",
      "\treturn pt, wt \n"
     ],
     "language": "python",
     "metadata": {},
     "outputs": [],
     "prompt_number": 123
    },
    {
     "cell_type": "code",
     "collapsed": false,
     "input": [
      "# from numba import jit\n",
      "def CurveLength(c,u1,u2,res=5000):\n",
      "    u=np.linspace(u1,u2,res)\n",
      "    C=np.zeros((u.shape[0],3))\n",
      "    L=0.\n",
      "    for i in range(u.shape[0]):\n",
      "        C[i,:] =  CurvePoint(u[i],c)[0][:3]\n",
      "    for i in range(C.shape[0]-1):\n",
      "        L += np.linalg.norm(C[i+1,:2]-C[i,:2])\n",
      "#         L += np.linalg.norm(np.take(C[i+1],np.arange(2),mode='clip')-np.take(C[i],np.arange(2),mode='clip'))\n",
      "        \n",
      "    return L"
     ],
     "language": "python",
     "metadata": {},
     "outputs": [],
     "prompt_number": 124
    },
    {
     "cell_type": "code",
     "collapsed": false,
     "input": [
      "%load_ext cythonmagic"
     ],
     "language": "python",
     "metadata": {},
     "outputs": [],
     "prompt_number": 9
    },
    {
     "cell_type": "code",
     "collapsed": false,
     "input": [
      "%%cython \n",
      "import cython\n",
      "import numpy as np\n",
      "cimport numpy as np\n",
      "from igakit.igalib import bsp\n",
      "import imp\n",
      "# pr = imp.load_source('crv','/home/roman/Dropbox/Python/Core/Supplementary/nurbs/nurbs.py')\n",
      "\n",
      "DTYPE = np.float64\n",
      "ctypedef np.float64_t DTYPE_t\n",
      "\n",
      "DTYPEI = np.int64\n",
      "ctypedef np.int64_t DTYPEI_t\n",
      "\n",
      "@cython.boundscheck(False)\n",
      "@cython.wraparound(False)\n",
      "cpdef CurveLength_C(DTYPEI_t p, np.ndarray[DTYPE_t, ndim=1] U,np.ndarray[DTYPE_t, ndim=2] Pw,DTYPE_t u1,DTYPE_t u2,int res=5000):\n",
      "    cdef np.ndarray[DTYPE_t, ndim=1] u = np.linspace(u1,u2,res)\n",
      "#     cdef np.ndarray[DTYPE_t, ndim=1] u = np.arange(u1,u2,1./res)\n",
      "    cdef np.ndarray C = np.zeros((u.shape[0],3),dtype=DTYPE)\n",
      "    cdef DTYPE_t L=0.\n",
      "    cdef DTYPEI_t i\n",
      "    cdef DTYPEI_t ushape = u.shape[0]\n",
      "    cdef DTYPEI_t cshape = C.shape[0]-1\n",
      "    for i in range(ushape):\n",
      "        C[i,:] = bsp.Evaluate1(p,U,Pw,u[i])[0,:3]/(bsp.Evaluate1(p,U,Pw,u[i])[0,3]+1e-15)\n",
      "    for i in range(cshape):\n",
      "        L += np.linalg.norm(C[i+1,:2]-C[i,:2])\n",
      "#         print np.sqrt((C[i+1,:]-C[i,:])*(C[i+1,:]-C[i,:]))\n",
      "#         L += np.max(np.sqrt((C[i+1,:]-C[i,:])*(C[i+1,:]-C[i,:])))\n",
      "        \n",
      "    return L\n",
      "\n",
      "\n",
      "@cython.boundscheck(False)\n",
      "@cython.wraparound(False)\n",
      "def CurveLength_Cy(c,u1,u2,res=5000):\n",
      "    p = c['degree']\n",
      "    U = c['U'][0]\n",
      "    Pw = c['Pw']\n",
      "    return CurveLength_C(p, U, Pw, u1, u2, res)"
     ],
     "language": "python",
     "metadata": {},
     "outputs": [],
     "prompt_number": 185
    },
    {
     "cell_type": "code",
     "collapsed": false,
     "input": [
      "# Map \n",
      "pr = imp.load_source('crv','/home/roman/Dropbox/Python/Core/ParallelProcessing/parmap.py')\n",
      "import multiprocessing as mp\n",
      "\n",
      "def lngt(i,C0):\n",
      "    C = C0[i][0]\n",
      "    C1 = C0[i+1][0]\n",
      "#     L += np.linalg.norm(C-C1)\n",
      "    return np.linalg.norm(C-C1)\n",
      "    \n",
      "\n",
      "def CurveLength_map(c,u1,u2,res=5000):\n",
      "    u=np.linspace(u1,u2,res)\n",
      "    L=0.\n",
      "    C0 = pr.map(CurvePoint,u,c,parallel=False)\n",
      "    for i in range(len(C0)-1):\n",
      "        C = C0[i][0]\n",
      "        C1 = C0[i+1][0]\n",
      "        L += np.linalg.norm(C-C1)\n",
      "        \n",
      "    return L"
     ],
     "language": "python",
     "metadata": {},
     "outputs": [],
     "prompt_number": 187
    },
    {
     "cell_type": "code",
     "collapsed": false,
     "input": [
      "import numpy as np\n",
      "import igakit.cad as iga\n",
      "circle = iga.circle(radius=1, center=None, angle=None)\n",
      "dum=np.array([4,3,2,1,0,7,6,5,8])\n",
      "control = circle.control[dum,:]\n",
      "control[-1,0]=-1\n",
      "points = circle.points[dum,:]\n",
      "points[-1,0] = -1\n",
      "nurbs = [({'U':circle.knots,'Pw':control,'start':0,'end':1,'points':points,'weights':circle.weights,'degree':2})]\n",
      "\n",
      "n=500\n",
      "print CurveLength(nurbs[0],0,1,res=n) - 2*np.pi\n",
      "print CurveLength_Cy(nurbs[0],0,1,res=n) - 2.*np.pi\n",
      "print CurveLength_map(nurbs[0],0,1,res=n) - 2.*np.pi\n",
      "\n",
      "%timeit CurveLength(nurbs[0],0,1,res=n)\n",
      "%timeit CurveLength_Cy(nurbs[0],0,1,res=n)\n",
      "%timeit CurveLength_map(nurbs[0],0,1,res=n)\n",
      "\n",
      "# print np.arange(0,1.1,1./10)\n",
      "# print np.linspace(0,1,10)"
     ],
     "language": "python",
     "metadata": {},
     "outputs": [
      {
       "output_type": "stream",
       "stream": "stdout",
       "text": [
        "-4.17807424249e-05\n",
        "-4.17807424329e-05\n",
        "-4.17807424249e-05\n",
        "100 loops, best of 3: 15.2 ms per loop"
       ]
      },
      {
       "output_type": "stream",
       "stream": "stdout",
       "text": [
        "\n",
        "100 loops, best of 3: 13.9 ms per loop"
       ]
      },
      {
       "output_type": "stream",
       "stream": "stdout",
       "text": [
        "\n",
        "100 loops, best of 3: 12.3 ms per loop"
       ]
      },
      {
       "output_type": "stream",
       "stream": "stdout",
       "text": [
        "\n"
       ]
      }
     ],
     "prompt_number": 194
    }
   ],
   "metadata": {}
  }
 ]
}