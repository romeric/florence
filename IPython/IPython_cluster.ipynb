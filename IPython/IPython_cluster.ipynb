{
 "metadata": {
  "name": ""
 },
 "nbformat": 3,
 "nbformat_minor": 0,
 "worksheets": [
  {
   "cells": [
    {
     "cell_type": "code",
     "collapsed": false,
     "input": [
      "from IPython import parallel\n",
      "clients = parallel.Client()\n",
      "clients.block = True  # use synchronous computations\n",
      "print clients.ids"
     ],
     "language": "python",
     "metadata": {},
     "outputs": [
      {
       "output_type": "stream",
       "stream": "stdout",
       "text": [
        "[0, 1, 2, 3]\n"
       ]
      }
     ],
     "prompt_number": 2
    },
    {
     "cell_type": "code",
     "collapsed": false,
     "input": [
      "def mul(a, b):\n",
      "    return a * b\n",
      "\n",
      "mul(5, 6)"
     ],
     "language": "python",
     "metadata": {},
     "outputs": [
      {
       "metadata": {},
       "output_type": "pyout",
       "prompt_number": 3,
       "text": [
        "30"
       ]
      }
     ],
     "prompt_number": 3
    },
    {
     "cell_type": "code",
     "collapsed": false,
     "input": [
      "clients[:].apply(mul, 5, 6)"
     ],
     "language": "python",
     "metadata": {},
     "outputs": [
      {
       "metadata": {},
       "output_type": "pyout",
       "prompt_number": 7,
       "text": [
        "[30, 30, 30, 30]"
       ]
      }
     ],
     "prompt_number": 7
    },
    {
     "cell_type": "code",
     "collapsed": false,
     "input": [
      "import imp\n",
      "# rs = imp.load_source('RunSession','/home/roman/Dropbox/Python/RunSession.py')\n",
      "# %%file RunSession.py\n",
      "print 'must useful links for ipython cluster tutorial'\n",
      "print 'http://www.astro.washington.edu/users/vanderplas/Astr599/notebooks/21_IPythonParallel'\n",
      "print 'http://twiecki.github.io/blog/2014/02/24/ipython-nb-cluster/', 'on the cluster tutorial'\n",
      "print 'https://github.com/roryk/ipython-cluster-helper','ipython cluster helper'\n",
      "print 'http://ipython.org/ipython-doc/3/parallel/parallel_demos.html'\n",
      "print '\\n\\npypar pool map\\nhttps://github.com/marcjoos/pyutils/blob/master/pypar.py'\n",
      "print 'http://www.shocksolution.com/2010/04/managing-a-pool-of-mpi-processes-with-python-and-pypar/'\n",
      "print '\\na problem you might encounter with mpi and pythons multiprocessing'\n",
      "print 'http://unix.stackexchange.com/questions/64148/how-do-i-make-ls-show-file-sizes-in-megabytes'\n"
     ],
     "language": "python",
     "metadata": {},
     "outputs": [
      {
       "output_type": "stream",
       "stream": "stdout",
       "text": [
        "must useful links for ipython cluster tutorial\n",
        "http://www.astro.washington.edu/users/vanderplas/Astr599/notebooks/21_IPythonParallel\n",
        "http://twiecki.github.io/blog/2014/02/24/ipython-nb-cluster/ on the cluster tutorial\n",
        "https://github.com/roryk/ipython-cluster-helper ipython cluster helper\n",
        "http://ipython.org/ipython-doc/3/parallel/parallel_demos.html\n",
        "\n",
        "\n",
        "pypar pool map\n",
        "https://github.com/marcjoos/pyutils/blob/master/pypar.py\n",
        "http://www.shocksolution.com/2010/04/managing-a-pool-of-mpi-processes-with-python-and-pypar/\n",
        "\n",
        "a problem you might encounter with mpi and pythons multiprocessing\n",
        "http://unix.stackexchange.com/questions/64148/how-do-i-make-ls-show-file-sizes-in-megabytes\n"
       ]
      }
     ],
     "prompt_number": 28
    }
   ],
   "metadata": {}
  }
 ]
}