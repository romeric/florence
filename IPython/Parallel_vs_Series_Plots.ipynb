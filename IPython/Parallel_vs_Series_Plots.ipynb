{
 "metadata": {
  "name": ""
 },
 "nbformat": 3,
 "nbformat_minor": 0,
 "worksheets": [
  {
   "cells": [
    {
     "cell_type": "code",
     "collapsed": false,
     "input": [
      "# %matplotlib inline\n",
      "import numpy as np\n",
      "import matplotlib.pyplot as plt\n",
      "\n",
      "# P=2 TRIANGULAR ELEMENTS ALL ON QUAD CORE MACHINE Intel(R) Core(TM) i7-3520M CPU @2.90GHz\n",
      "plt.figure()\n",
      "dof0 = [23180]\n",
      "cpu124_0 = [14.3641531467,10.3592741489,8.69750809669]\n",
      "\n",
      "# plt.bar([1,3,5],cpu124_0)\n",
      "# plt.bar(cpu124,[1,3,5])\n",
      "# plt.show()\n",
      "\n",
      "# plt.figure()\n",
      "# dof1 = [94090]\n",
      "# cpu124_1 = [118.403894901,104.854637861,106.859189034]\n",
      "\n",
      "# P=0\n",
      "dof_2 = [5874]\n",
      "cpu124_2 = [5.17186880112,4.51830601692,3.03185105324]\n",
      "# plt.bar([1,3,5],cpu124_2)\n",
      "\n",
      "\n",
      "\n",
      "dof3= 23680\n",
      "cpu124_3 = [21.7861979008,14.1386671066,11.9852240086]\n",
      "# plt.text(5,cpu124_3[0]-1,str(dof3))\n",
      "# plt.bar([1,3,5],cpu124_3)\n",
      "# plt.show()\n",
      "\n",
      "\n",
      "dof4 = 384098\n",
      "cpu124_4 = [400.74823904,310.01470685,236.148124218]\n",
      "# plt.bar([1,3,5],cpu124_4)"
     ],
     "language": "python",
     "metadata": {},
     "outputs": [
      {
       "metadata": {},
       "output_type": "display_data",
       "text": [
        "<matplotlib.figure.Figure at 0x7f29aa39da10>"
       ]
      }
     ],
     "prompt_number": 51
    },
    {
     "cell_type": "code",
     "collapsed": false,
     "input": [
      "import plotly.plotly as py\n",
      "from plotly.graph_objs import *\n",
      "\n",
      "data = Data([\n",
      "    Bar(\n",
      "        x=['Single Core', '2 Cores', '4 Cores'],\n",
      "        y=[5.17186880112,4.51830601692,3.03185105324]\n",
      "    )\n",
      "])\n",
      "py.iplot(data)\n",
      "# 5874 DoFs"
     ],
     "language": "python",
     "metadata": {},
     "outputs": [
      {
       "html": [
        "<iframe id=\"igraph\" scrolling=\"no\" style=\"border:none;\"seamless=\"seamless\" src=\"https://plot.ly/~romeric-poyazh/24.embed\" height=\"525\" width=\"100%\"></iframe>"
       ],
       "metadata": {},
       "output_type": "pyout",
       "prompt_number": 56,
       "text": [
        "<plotly.tools.PlotlyDisplay at 0x7f29aa3afc10>"
       ]
      }
     ],
     "prompt_number": 56
    },
    {
     "cell_type": "code",
     "collapsed": false,
     "input": [
      "data = Data([\n",
      "    Bar(\n",
      "        x=['Single Core', '2 Cores', '4 Cores'],\n",
      "        y=[21.7861979008,14.1386671066,11.9852240086]\n",
      "    )\n",
      "])\n",
      "py.iplot(data)\n",
      "# 23680 DoFs"
     ],
     "language": "python",
     "metadata": {},
     "outputs": [
      {
       "html": [
        "<iframe id=\"igraph\" scrolling=\"no\" style=\"border:none;\"seamless=\"seamless\" src=\"https://plot.ly/~romeric-poyazh/25.embed\" height=\"525\" width=\"100%\"></iframe>"
       ],
       "metadata": {},
       "output_type": "pyout",
       "prompt_number": 57,
       "text": [
        "<plotly.tools.PlotlyDisplay at 0x7f29aa6897d0>"
       ]
      }
     ],
     "prompt_number": 57
    },
    {
     "cell_type": "code",
     "collapsed": false,
     "input": [
      "data = Data([\n",
      "    Bar(\n",
      "        x=['Single Core', '2 Cores', '4 Cores'],\n",
      "        y=[400.74823904,310.01470685,236.148124218]\n",
      "    )\n",
      "])\n",
      "py.iplot(data)\n",
      "# 384098 D0Fs"
     ],
     "language": "python",
     "metadata": {},
     "outputs": [
      {
       "html": [
        "<iframe id=\"igraph\" scrolling=\"no\" style=\"border:none;\"seamless=\"seamless\" src=\"https://plot.ly/~romeric-poyazh/22.embed\" height=\"525\" width=\"100%\"></iframe>"
       ],
       "metadata": {},
       "output_type": "pyout",
       "prompt_number": 54,
       "text": [
        "<plotly.tools.PlotlyDisplay at 0x7f29aa3a4d90>"
       ]
      }
     ],
     "prompt_number": 54
    },
    {
     "cell_type": "code",
     "collapsed": false,
     "input": [
      "data = Data([\n",
      "    Bar(\n",
      "        x=['Single Core', '8 Cores','16 Cores'],\n",
      "        y=[10767.989760,3473.33767,1601.01548]\n",
      "    )\n",
      "])\n",
      "py.iplot(data)\n",
      "# 6135253 DoFs"
     ],
     "language": "python",
     "metadata": {},
     "outputs": [
      {
       "html": [
        "<iframe id=\"igraph\" scrolling=\"no\" style=\"border:none;\"seamless=\"seamless\" src=\"https://plot.ly/~romeric-poyazh/36.embed\" height=\"525\" width=\"100%\"></iframe>"
       ],
       "metadata": {},
       "output_type": "pyout",
       "prompt_number": 68,
       "text": [
        "<plotly.tools.PlotlyDisplay at 0x7f29aa689a90>"
       ]
      }
     ],
     "prompt_number": 68
    },
    {
     "cell_type": "code",
     "collapsed": false,
     "input": [
      "# import plotly.tools as tls\n",
      "# tls.embed(\"https://plot.ly/~romeric/4\")"
     ],
     "language": "python",
     "metadata": {},
     "outputs": [],
     "prompt_number": 53
    }
   ],
   "metadata": {}
  }
 ]
}