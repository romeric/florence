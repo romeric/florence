{
 "metadata": {
  "name": ""
 },
 "nbformat": 3,
 "nbformat_minor": 0,
 "worksheets": [
  {
   "cells": [
    {
     "cell_type": "code",
     "collapsed": false,
     "input": [
      "import numpy as np\n",
      "from scipy.sparse import csc_matrix\n",
      "from sppy import csarray\n",
      "\n",
      "row = np.array([0, 2, 2, 0, 1, 2])\n",
      "col = np.array([0, 0, 1, 2, 2, 2])\n",
      "data = np.array([1, 2, 3, 4, 5, 6])\n",
      "\n",
      "a = np.array([[1, 0, 4],\n",
      "       [0, 0, 5],\n",
      "       [2, 3, 6]]) \n",
      "\n",
      "sppym = csarray(a,dtype=np.int64)\n",
      "cscm = csc_matrix((data, (row, col)), shape=(3, 3))\n",
      "\n",
      "# print cscm\n",
      "# print sppym\n",
      "\n",
      "# %timeit cscm.dot(cscm)\n",
      "# %timeit sppym.dot(sppym)\n",
      "\n",
      "\n",
      "import scipy as sp \n",
      "import sppy\n",
      "n=1000\n",
      "a1 = sp.sparse.rand(n,n,density=0.01, format='csc')\n",
      "a2 = sppy.rand((n,n), 0.01)\n",
      "\n",
      "# %timeit a1.dot(a1)\n",
      "# %timeit a2.dot(a2) # slower\n",
      "\n",
      "%timeit a1.sum()\n",
      "%timeit a2.sum() # slower\n",
      "\n",
      "# the sppy package is slower than scipy's sparse package"
     ],
     "language": "python",
     "metadata": {},
     "outputs": [
      {
       "output_type": "stream",
       "stream": "stdout",
       "text": [
        "100000 loops, best of 3: 13.2 \u00b5s per loop\n",
        "10000 loops, best of 3: 190 \u00b5s per loop"
       ]
      },
      {
       "output_type": "stream",
       "stream": "stdout",
       "text": [
        "\n"
       ]
      }
     ],
     "prompt_number": 28
    }
   ],
   "metadata": {}
  }
 ]
}