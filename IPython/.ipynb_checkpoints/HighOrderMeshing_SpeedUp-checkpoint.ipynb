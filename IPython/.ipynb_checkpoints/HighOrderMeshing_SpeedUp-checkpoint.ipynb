{
 "metadata": {
  "name": "",
  "signature": "sha256:3ded45a79d3f027281d412d4a099e25e279f9b27d6ef9733178d57c8beb8d139"
 },
 "nbformat": 3,
 "nbformat_minor": 0,
 "worksheets": [
  {
   "cells": [
    {
     "cell_type": "code",
     "collapsed": false,
     "input": [
      "import numpy as np \n",
      "from scipy.stats import itemfreq\n",
      "\n",
      "def ReadMesh_Fast(filename,MeshType,C=0):\n",
      "\t# GENERIC SALOME MESH READER\n",
      "\t# FILENAME SHOULD BE A STRING\n",
      "\tclass mesh(object):\n",
      "\t\t\"\"\"docstring for mesh\"\"\"\n",
      "\t\tinfo = MeshType\n",
      "\t\t\t\n",
      "\t# GET NO OF NODES AND NELSE (NELES=NO OF FREE EDGES + NO OF FREE FACES + NO OF ELEMENTS)\n",
      "\tmesh.nnode, nelse = np.fromfile(filename,dtype=np.int64,count=2, sep=\" \") \n",
      "\t# DETERMINE MULTIPLICITY OF EACH TYPE (i.e. EDGES, FACES, ELEMENTS)\n",
      "\tnelse_type = (itemfreq(np.loadtxt(filename,dtype=np.int64,skiprows=1+mesh.nnode,usecols=(1,)))).astype(int)\n",
      "\t# READ FREE EDGES & ELEMENTS FOR 2D MESHES \n",
      "\tif MeshType=='tri' or MeshType=='quad':\n",
      "\t\t# READ POINTS\n",
      "\t\tmesh.points = np.loadtxt(filename,dtype=np.float64,skiprows=1,usecols=(1,2,3) )[:mesh.nnode,:2]\n",
      "\t\t# READ EDGES\n",
      "\t\tedge_cols = np.arange(2,int(nelse_type[0,0]-100)+2)\n",
      "\t\tmesh.edges = np.loadtxt(filename,dtype=np.int64,skiprows=1+mesh.nnode,usecols=edge_cols )[:nelse_type[0,1],:] - 1\n",
      "\t\t# READ ELEMENTS\n",
      "\t\telem_cols = np.arange(2,int(nelse_type[1,0]-200)+2)\n",
      "\t\tmesh.elements = np.loadtxt(filename,dtype=np.int64,skiprows=1+mesh.nnode+nelse_type[0,1],usecols=elem_cols )[:nelse_type[1,1],:] - 1\n",
      "\t\t# READ NUMBER OF ELEMENTS IN 2D\n",
      "\t\tmesh.nelem = nelse_type[1,1]\n",
      "\t\tmesh.faces = []\n",
      "\n",
      "\tmesh.nedge = nelse_type[0,1]\n",
      "\n",
      "\treturn mesh \n",
      "\n",
      "mesh = ReadMesh_Fast('Mesh_Annular_Circle_75.dat','tri',0)\n",
      "# print mesh.points\n",
      "\n",
      "import imp\n",
      "Tri = imp.load_source('hpNodalTri','../Core/InterpolationFunctions/TwoDimensional/Tri/hpNodal.py')"
     ],
     "language": "python",
     "metadata": {},
     "outputs": [
      {
       "ename": "ImportError",
       "evalue": "No module named Core.NumericalIntegration.FeketePointsTri",
       "output_type": "pyerr",
       "traceback": [
        "\u001b[1;31m---------------------------------------------------------------------------\u001b[0m\n\u001b[1;31mImportError\u001b[0m                               Traceback (most recent call last)",
        "\u001b[1;32m<ipython-input-10-ad217c39354e>\u001b[0m in \u001b[0;36m<module>\u001b[1;34m()\u001b[0m\n\u001b[0;32m     35\u001b[0m \u001b[1;33m\u001b[0m\u001b[0m\n\u001b[0;32m     36\u001b[0m \u001b[1;32mimport\u001b[0m \u001b[0mimp\u001b[0m\u001b[1;33m\u001b[0m\u001b[0m\n\u001b[1;32m---> 37\u001b[1;33m \u001b[0mTri\u001b[0m \u001b[1;33m=\u001b[0m \u001b[0mimp\u001b[0m\u001b[1;33m.\u001b[0m\u001b[0mload_source\u001b[0m\u001b[1;33m(\u001b[0m\u001b[1;34m'hpNodalTri'\u001b[0m\u001b[1;33m,\u001b[0m\u001b[1;34m'../Core/InterpolationFunctions/TwoDimensional/Tri/hpNodal.py'\u001b[0m\u001b[1;33m)\u001b[0m\u001b[1;33m\u001b[0m\u001b[0m\n\u001b[0m",
        "\u001b[1;32m/home/roman/Dropbox/Python/Core/InterpolationFunctions/TwoDimensional/Tri/hpNodal.py\u001b[0m in \u001b[0;36m<module>\u001b[1;34m()\u001b[0m\n\u001b[0;32m      1\u001b[0m \u001b[1;32mimport\u001b[0m \u001b[0mnumpy\u001b[0m \u001b[1;32mas\u001b[0m \u001b[0mnp\u001b[0m\u001b[1;33m\u001b[0m\u001b[0m\n\u001b[1;32m----> 2\u001b[1;33m \u001b[1;32mfrom\u001b[0m \u001b[0mCore\u001b[0m\u001b[1;33m.\u001b[0m\u001b[0mNumericalIntegration\u001b[0m\u001b[1;33m.\u001b[0m\u001b[0mFeketePointsTri\u001b[0m \u001b[1;32mimport\u001b[0m \u001b[1;33m*\u001b[0m\u001b[1;33m\u001b[0m\u001b[0m\n\u001b[0m\u001b[0;32m      3\u001b[0m \u001b[1;32mfrom\u001b[0m \u001b[0mCore\u001b[0m\u001b[1;33m.\u001b[0m\u001b[0mJacobiPolynomials\u001b[0m\u001b[1;33m.\u001b[0m\u001b[0mNormalisedJacobi\u001b[0m \u001b[1;32mimport\u001b[0m \u001b[1;33m*\u001b[0m\u001b[1;33m\u001b[0m\u001b[0m\n\u001b[0;32m      4\u001b[0m \u001b[1;32mfrom\u001b[0m \u001b[0mCore\u001b[0m\u001b[1;33m.\u001b[0m\u001b[0mInterpolationFunctions\u001b[0m\u001b[1;33m.\u001b[0m\u001b[0mDegenerateMappings\u001b[0m \u001b[1;32mimport\u001b[0m \u001b[0mMapXiEta2RS\u001b[0m\u001b[1;33m\u001b[0m\u001b[0m\n\u001b[0;32m      5\u001b[0m \u001b[1;33m\u001b[0m\u001b[0m\n",
        "\u001b[1;31mImportError\u001b[0m: No module named Core.NumericalIntegration.FeketePointsTri"
       ]
      }
     ],
     "prompt_number": 10
    }
   ],
   "metadata": {}
  }
 ]
}