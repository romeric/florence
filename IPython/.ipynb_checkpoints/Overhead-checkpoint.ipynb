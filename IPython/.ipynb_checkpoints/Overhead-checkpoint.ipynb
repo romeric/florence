{
 "metadata": {
  "name": ""
 },
 "nbformat": 3,
 "nbformat_minor": 0,
 "worksheets": [
  {
   "cells": [
    {
     "cell_type": "code",
     "collapsed": false,
     "input": [
      "import numpy as np\n",
      "from numba import jit\n",
      "\n",
      "def f1(A):\n",
      "    sum = 0.0\n",
      "    for i in range(0,A.shape[0]):\n",
      "        for j in range(0,A.shape[1]):\n",
      "            sum += A[i,j]\n",
      "            \n",
      "    return sum\n",
      "\n",
      "# def f2(A):\n",
      "#     sum = f1(A)\n",
      "#     return sum\n",
      "\n",
      "\n",
      "def ff(a):\n",
      "    return a\n",
      "\n",
      "\n",
      "def f2(A):\n",
      "    sum = 0.0\n",
      "    for i in range(0,A.shape[0]):\n",
      "        for j in range(0,A.shape[1]):\n",
      "           sum += ff(A[i,j])\n",
      "    return sum\n",
      "\n",
      "\n",
      "def f3(A):\n",
      "    for k in range(100):\n",
      "        f1(A)\n",
      "def f4(A):\n",
      "    for k in range(100):\n",
      "        f2(A)\n",
      "        \n",
      "\n",
      "n=500\n",
      "A=np.random.rand(n,n)\n",
      "# print f1(A)\n",
      "# print f2(A)\n",
      "\n",
      "%timeit f1(A)\n",
      "%timeit f2(A)"
     ],
     "language": "python",
     "metadata": {},
     "outputs": [
      {
       "output_type": "stream",
       "stream": "stdout",
       "text": [
        "10 loops, best of 3: 94.2 ms per loop\n",
        "10 loops, best of 3: 101 ms per loop"
       ]
      },
      {
       "output_type": "stream",
       "stream": "stdout",
       "text": [
        "\n"
       ]
      }
     ],
     "prompt_number": 42
    }
   ],
   "metadata": {}
  }
 ]
}