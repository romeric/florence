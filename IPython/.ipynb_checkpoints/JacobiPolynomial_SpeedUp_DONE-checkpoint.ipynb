{
 "metadata": {
  "name": "",
  "signature": "sha256:a5e854683dd636d150b65b687948fe77d66b3854204756e05a72e3ca335c0b1b"
 },
 "nbformat": 3,
 "nbformat_minor": 0,
 "worksheets": [
  {
   "cells": [
    {
     "cell_type": "code",
     "collapsed": false,
     "input": [
      "# from numba.decorators import jit, autojit\n",
      "# import numpy as np \n",
      "\n",
      "# @jit\n",
      "def JacobiPolynomials(n,xi,a=0,b=0):\n",
      "\n",
      "\t# The first two polynomials\n",
      "# \tP = np.zeros((n+1,1))\n",
      "\tP=[0]*(n+1)\n",
      "\tP[0] = 1.0\n",
      "\tif n>0:\n",
      "\t\tP[1] = 0.5*((a-b)+(a+b+2)*xi)\n",
      "\n",
      "\tif n>1:\n",
      "\t\tfor p in range(1,n):\n",
      "\t\t\t# Evaluate coefficients\n",
      "\t\t\ta1n = 2*(p+1)*(p+a+b+1)*(2*p+a+b)\n",
      "\t\t\ta2n = (2*p+a+b+1)*(a**2-b**2)\n",
      "\t\t\ta3n = (2*p+a+b)*(2*p+a+b+1)*(2*p+a+b+2)\n",
      "\t\t\ta4n = 2*(p+a)*(p+b)*(2*p+a+b+2)\n",
      "\t\t\t# print p\n",
      "\t\t\tP[p+1] = ((a2n+a3n*xi)*P[p]-a4n*P[p-1])/a1n\n",
      "\n",
      "\treturn P\n",
      "\n",
      "\n",
      "def DiffJacobiPolynomials(n,xi,a=0,b=0,opt=0):\n",
      "\t# opt is for Gauss-Lobatto integration purpose only\n",
      "\t# Compute derivatives\n",
      "# \tdP = np.zeros((n+1,1))\n",
      "\tdP=[0]*(n+1)  \n",
      "\n",
      "\tif opt==1:\n",
      "\t\tP = JacobiPolynomials(n,xi,a+1,b+1)\n",
      "\telse:\n",
      "\t\tP = JacobiPolynomials(n,xi,a,b)\n",
      "\n",
      "# \tp=np.arange(0,n+1)\n",
      "# \tdP[p] = 0.5*(a+b+p+1)*P[p-1]    \n",
      "\tfor p in range(1,n+1):\n",
      "\t\tdP[p] = 0.5*(a+b+p+1)*P[p-1]\n",
      "\t\t\n",
      "\treturn dP"
     ],
     "language": "python",
     "metadata": {
      "slideshow": {
       "slide_type": "-"
      }
     },
     "outputs": [],
     "prompt_number": 80
    },
    {
     "cell_type": "code",
     "collapsed": false,
     "input": [
      "# %timeit JacobiPolynomials(10,0.5)\n",
      "# Jac = autojit(JacobiPolynomials)\n",
      "# %timeit Jac(10,0.5)\n",
      "\n",
      "\n",
      "%timeit DiffJacobiPolynomials(10,0.5)\n",
      "# dJac = autojit(DiffJacobiPolynomials)\n",
      "# %timeit dJac(10,0.5)"
     ],
     "language": "python",
     "metadata": {},
     "outputs": [
      {
       "output_type": "stream",
       "stream": "stdout",
       "text": [
        "100000 loops, best of 3: 16.6 \u00b5s per loop\n"
       ]
      }
     ],
     "prompt_number": 74
    },
    {
     "cell_type": "code",
     "collapsed": false,
     "input": [
      "%load_ext cythonmagic"
     ],
     "language": "python",
     "metadata": {},
     "outputs": [],
     "prompt_number": 56
    },
    {
     "cell_type": "code",
     "collapsed": false,
     "input": [
      "%%cython\n",
      "import cython\n",
      "# import numpy as np\n",
      "# cimport numpy as np\n",
      "\n",
      "# @cython.boundscheck(False)\n",
      "# @cython.wraparound(False)\n",
      "def JacobiPolynomialsCy(int n,double xi,double a=0.,double b=0.):\n",
      "\n",
      "\t# The first two polynomials\n",
      "\tcdef double a1n,a2n,a3n, a4n\n",
      "\tcdef int p\n",
      "\n",
      "# \tcdef np.ndarray P = np.zeros((n+1,1),dtype=np.float64)\n",
      "\tP=[0]*(n+1)\n",
      "\tP[0] = 1.0\n",
      "\tif n>0:\n",
      "\t\tP[1] = 0.5*((a-b)+(a+b+2)*xi)\n",
      "\n",
      "\tif n>1:\n",
      "\t\tfor p in range(1,n):\n",
      "\t\t\t# Evaluate coefficients\n",
      "\t\t\ta1n = 2*(p+1)*(p+a+b+1)*(2*p+a+b)\n",
      "\t\t\ta2n = (2*p+a+b+1)*(a**2-b**2)\n",
      "\t\t\ta3n = (2*p+a+b)*(2*p+a+b+1)*(2*p+a+b+2)\n",
      "\t\t\ta4n = 2*(p+a)*(p+b)*(2*p+a+b+2)\n",
      "\t\t\t# print p\n",
      "\t\t\tP[p+1] = ((a2n+a3n*xi)*P[p]-a4n*P[p-1])/a1n\n",
      "\n",
      "\treturn P\n",
      "\n",
      "# @cython.boundscheck(False)\n",
      "# @cython.wraparound(False)\n",
      "def DiffJacobiPolynomialsCy(int n,double xi,double a=0.,double b=0.,int opt=0):\n",
      "\t# opt is for Gauss-Lobatto integration purpose only\n",
      "\t# Compute derivatives\n",
      "\tdP=[0]*(n+1) \n",
      "\tcdef int p\n",
      "    \n",
      "\tif opt==1:\n",
      "\t\tP = JacobiPolynomialsCy(n,xi,a+1,b+1)\n",
      "\telse:\n",
      "\t\tP = JacobiPolynomialsCy(n,xi,a,b)\n",
      " \n",
      "\tfor p in range(1,n+1):\n",
      "\t\tdP[p] = 0.5*(a+b+p+1)*P[p-1]\n",
      "\t\t\n",
      "\treturn dP"
     ],
     "language": "python",
     "metadata": {},
     "outputs": [],
     "prompt_number": 112
    },
    {
     "cell_type": "code",
     "collapsed": false,
     "input": [
      "# %timeit JacobiPolynomialsCy(10,0.5)\n",
      "%timeit DiffJacobiPolynomialsCy(10,0.5)"
     ],
     "language": "python",
     "metadata": {},
     "outputs": [
      {
       "output_type": "stream",
       "stream": "stdout",
       "text": [
        "1000000 loops, best of 3: 1.66 \u00b5s per loop\n"
       ]
      }
     ],
     "prompt_number": 115
    },
    {
     "cell_type": "code",
     "collapsed": false,
     "input": [],
     "language": "python",
     "metadata": {},
     "outputs": [],
     "prompt_number": 0
    }
   ],
   "metadata": {}
  }
 ]
}