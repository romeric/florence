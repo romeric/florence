{
 "metadata": {
  "name": ""
 },
 "nbformat": 3,
 "nbformat_minor": 0,
 "worksheets": [
  {
   "cells": [
    {
     "cell_type": "code",
     "collapsed": false,
     "input": [
      "import numpy as np\n",
      "\n",
      "\n",
      "m=100\n",
      "n=50\n",
      "A=np.random.rand(m,n)\n",
      "\n",
      "b=np.arange(1,40)\n",
      "%timeit A[:,1:40]\n",
      "%timeit np.take(A,b,axis=1)\n",
      "\n",
      "# print A[:,1:4]\n",
      "# print np.take(A,b,axis=1)\n",
      "\n",
      "# print np.take(A,)\n",
      "\n",
      "# A=np.random.rand(4,4)\n",
      "# print A\n",
      "# print \n",
      "# print A[:,1:3]\n",
      "# b=np.arange(1,3)\n",
      "# print \n",
      "# print np.take(A,b,axis=1)"
     ],
     "language": "python",
     "metadata": {},
     "outputs": [
      {
       "output_type": "stream",
       "stream": "stdout",
       "text": [
        "1000000 loops, best of 3: 959 ns per loop\n",
        "100000 loops, best of 3: 16.2 \u00b5s per loop"
       ]
      },
      {
       "output_type": "stream",
       "stream": "stdout",
       "text": [
        "\n"
       ]
      }
     ],
     "prompt_number": 37
    },
    {
     "cell_type": "code",
     "collapsed": false,
     "input": [
      "# import imp\n",
      "# we = imp.load_source('Where','/home/roman/Dropbox/Python/Core/Supplementary/Where/whereEQ.so')\n",
      "from whereEQ import whereEQ\n",
      "\n",
      "n=500\n",
      "A=np.arange(n*10).reshape(n,10)\n",
      "A[300,2] = 7\n",
      "A[400,9] = 7\n",
      "\n",
      "print np.where(A==7)\n",
      "print whereEQ(A,7)\n",
      "# print np.all(A==7)\n",
      "# print np.any(A==7)\n",
      "# print np.argwhere(A).shape\n",
      "print np.argwhere(A==7)\n",
      "# print np.any(A-7==0)\n",
      "# print np.all(A-7==0)\n",
      "\n",
      "%timeit np.where(A==7)\n",
      "%timeit whereEQ(A,7)\n",
      "%timeit np.argwhere(A==7)"
     ],
     "language": "python",
     "metadata": {},
     "outputs": [
      {
       "output_type": "stream",
       "stream": "stdout",
       "text": [
        "(array([  0, 300, 400]), array([7, 2, 9]))\n",
        "((0, 300, 400), (7, 2, 9))\n",
        "[[  0   7]\n",
        " [300   2]\n",
        " [400   9]]\n",
        "10000 loops, best of 3: 29.2 \u00b5s per loop"
       ]
      },
      {
       "output_type": "stream",
       "stream": "stdout",
       "text": [
        "\n",
        "100000 loops, best of 3: 5.89 \u00b5s per loop"
       ]
      },
      {
       "output_type": "stream",
       "stream": "stdout",
       "text": [
        "\n",
        "10000 loops, best of 3: 39.1 \u00b5s per loop"
       ]
      },
      {
       "output_type": "stream",
       "stream": "stdout",
       "text": [
        "\n"
       ]
      }
     ],
     "prompt_number": 36
    },
    {
     "cell_type": "code",
     "collapsed": false,
     "input": [
      "import numpy as np\n",
      "\n",
      "A=np.random.rand(50,50)\n",
      "\n",
      "# print A.flags\n",
      "# print \n",
      "# print A.T.flags\n",
      "\n",
      "def f1(A):\n",
      "    for i in range(0,1000):\n",
      "        np.dot(A,A.T)\n",
      "def f2(A):\n",
      "    B = A.T.copy()\n",
      "    for i in range(0,1000):\n",
      "        np.dot(A,B)\n",
      "\n",
      "# %timeit np.dot(A,A.T)\n",
      "# %timeit np.dot(A,A.T.copy())\n",
      "\n",
      "%timeit f1(A)\n",
      "%timeit f2(A)"
     ],
     "language": "python",
     "metadata": {},
     "outputs": [
      {
       "output_type": "stream",
       "stream": "stdout",
       "text": [
        "10 loops, best of 3: 121 ms per loop\n",
        "10 loops, best of 3: 143 ms per loop"
       ]
      },
      {
       "output_type": "stream",
       "stream": "stdout",
       "text": [
        "\n"
       ]
      }
     ],
     "prompt_number": 6
    }
   ],
   "metadata": {}
  }
 ]
}