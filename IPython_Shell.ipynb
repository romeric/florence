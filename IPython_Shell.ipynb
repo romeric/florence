{
 "metadata": {
  "name": ""
 },
 "nbformat": 3,
 "nbformat_minor": 0,
 "worksheets": [
  {
   "cells": [
    {
     "cell_type": "code",
     "collapsed": false,
     "input": [
      "# THE RunSession ROUTINES RUNS A SPECIFIC SESSION, FOR INSTANCE, A FEM, A BEM OR A COUPLED SESSION.\n",
      "# THE ENTIRE CODE IS RUN FROM HERE.\n",
      "\n",
      "import imp, os, sys, time, cProfile\t\n",
      "from datetime import datetime\n",
      "import numpy as np\n",
      "import scipy as sp \n",
      "import multiprocessing as MP\n",
      "# from numba.decorators import jit\n",
      "\n",
      "# AVOID WRITING .pyc OR .pyo FILES\n",
      "sys.dont_write_bytecode\n",
      "\n",
      "# START THE ANALYSIS\n",
      "print 'Initiating the routines... Current time is', datetime.now().time()\n",
      "\n",
      "# ALLOCATE/BUILD THE GENERAL DATA FOR THE ANALYSIS\n",
      "class MainData(object):\n",
      " \t\"\"\"General data such as directories, files, analysis session, etc that needs to be loaded a priori\"\"\"\n",
      " \tpwd = os.path.dirname(os.path.realpath('__file__'))\n",
      " \tsession = 'FEM'\n",
      " \tC = 0\t\t\t\t\t\t# ORDER OF BASIS FUNCTIONS (NOTE THAT C=P-1, WHERE P IS THE POLYNOMIAL DEGREE)\n",
      " \tnorder = 2  \t\t\t\t# ORDER/NO OF QUADRATURE POINTS\n",
      " \tplot = (0,3)\t\t\t\t# PLOT FLAG FOR BEM \n",
      " \tnrplot = (0,'last')\t\t\t# PLOT FLAG FOR NEWTON-RAPHSON CONVERGENCE\n",
      " \twrite = 1\t\t\t\t\t# FLAG FOR WRITING THE RESULTS IN VTK/MAT/EPS/DAT ETC\n",
      " \tnCPU = MP.cpu_count()\t\t\n",
      "#  \tnCPU = 1\t\t            \n",
      " \t\n",
      "# RUN THE APPROPRIATE SESSION\n",
      "from Main.FiniteElements.MainFEM import main\n",
      "#----------------------------------------------------------------------------------------------------------------------\n",
      "\n",
      "# FEM SESSION\n",
      "if MainData.session == 'FEM':\n",
      "\tt_FEM = time.time()\n",
      "\t# cProfile.run('main(MainData)')\n",
      "\tmain(MainData)\t\n",
      "\tprint 'Time taken for the entire analysis was', time.time()-t_FEM, 'seconds \\n'\n",
      "\t# MEMORY USAGE INFORMATION\n",
      "\tprint 'Global sparse matrix needed', MainData.spmat, 'MB of memory with IJV indices requiring', MainData.ijv, 'MB'\n",
      "#----------------------------------------------------------------------------------------------------------------------\n",
      "\n",
      "# import inspect; print(inspect.getsource(numpy.linspace)) # numpy/scipy documenation in a shell\n",
      "print u'\\u2713'.encode('utf8')"
     ],
     "language": "python",
     "metadata": {},
     "outputs": [
      {
       "output_type": "stream",
       "stream": "stdout",
       "text": [
        "Initiating the routines... Current time is 20:12:30.543506\n",
        "Pre-Processing the information. Getting paths, solution parameters, mesh info, interpolation bases etc...\n",
        "Writing results in the problem directory: /home/roman/Dropbox/Python/Problems/FiniteElements/Annular_Circle\n",
        "Finished 'PreProcess' sub-routine. Time elapsed was 0.0199 seconds\n",
        "Number of nodes is 176 number of DoFs 528\n",
        "Assembling the system and acquiring neccessary information for the analysis...\n"
       ]
      },
      {
       "output_type": "stream",
       "stream": "stdout",
       "text": [
        "Finished the assembly stage. Time elapsed was 0.338535070419 sec\n",
        "Time taken for the entire analysis was 0.368273973465 seconds \n",
        "\n",
        "Global sparse matrix needed 0.0791015625 MB of memory with IJV indices requiring 0.578430175781 MB\n",
        "\u2713\n"
       ]
      }
     ],
     "prompt_number": 14
    }
   ],
   "metadata": {}
  }
 ]
}